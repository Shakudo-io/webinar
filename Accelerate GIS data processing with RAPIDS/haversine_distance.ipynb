{
 "cells": [
  {
   "cell_type": "markdown",
   "id": "bd0ed7aa",
   "metadata": {},
   "source": [
    "## NVIDIA Rapids cuSpatial Demo\n",
    "- is created to accelerate common operations needed in understanding sensor data with GIS information.\n",
    "- it's an efficient C++ library accelerated on GPUs using NVIDIA CUDA and cuDF, the RAPIDS DataFrame library\n",
    "- provides 10x to 10,000x GPU-acceleration on common spatial and spatiotemporal operations such as point-in-polygon tests, distances between trajectories, and trajectory clustering\n",
    "- support relational data source (CSV, Parquet, etc.) and geospatial/GIS, such as shapefiles.\n",
    "\n",
    "<img src=\"cuSpatial_table.png\" alt=\"Drawing\" style=\"width: 500px;\"/>\n",
    "\n",
    "- read more (https://medium.com/rapids-ai/releasing-cuspatial-to-accelerate-geospatial-and-spatiotemporal-processing-b686d8b32a9)\n",
    "- data dowloaded from https://s3.amazonaws.com/nyc-tlc/trip+data/yellow_tripdata_2009-01.csv"
   ]
  },
  {
   "cell_type": "code",
   "execution_count": 50,
   "id": "76eff490",
   "metadata": {},
   "outputs": [],
   "source": [
    "import time\n",
    "import cuspatial\n",
    "from dask.distributed import Client, wait\n",
    "from dask_cuda import LocalCUDACluster\n",
    "import dask, dask_cudf\n",
    "import cudf"
   ]
  },
  {
   "cell_type": "code",
   "execution_count": 51,
   "id": "895bb079",
   "metadata": {
    "tags": [
     "parameters"
    ]
   },
   "outputs": [],
   "source": [
    "year = \"2015\""
   ]
  },
  {
   "cell_type": "markdown",
   "id": "5a592ecd",
   "metadata": {},
   "source": [
    "## RAPIDS on one GPU"
   ]
  },
  {
   "cell_type": "code",
   "execution_count": 52,
   "id": "9de12fcf",
   "metadata": {},
   "outputs": [],
   "source": [
    "# local dask cluster\n",
    "cluster = LocalCUDACluster()\n",
    "client = Client(cluster)\n",
    "\n",
    "# # forces workers to restart. useful to ensure GPU memory is clear\n",
    "# # client.restart()\n",
    "# client"
   ]
  },
  {
   "cell_type": "code",
   "execution_count": 53,
   "id": "7f2c86d5",
   "metadata": {},
   "outputs": [
    {
     "name": "stdout",
     "output_type": "stream",
     "text": [
      "CPU times: user 189 ms, sys: 40.4 ms, total: 229 ms\n",
      "Wall time: 4.8 s\n"
     ]
    },
    {
     "data": {
      "text/html": [
       "<div>\n",
       "<style scoped>\n",
       "    .dataframe tbody tr th:only-of-type {\n",
       "        vertical-align: middle;\n",
       "    }\n",
       "\n",
       "    .dataframe tbody tr th {\n",
       "        vertical-align: top;\n",
       "    }\n",
       "\n",
       "    .dataframe thead th {\n",
       "        text-align: right;\n",
       "    }\n",
       "</style>\n",
       "<table border=\"1\" class=\"dataframe\">\n",
       "  <thead>\n",
       "    <tr style=\"text-align: right;\">\n",
       "      <th></th>\n",
       "      <th>vendor_name</th>\n",
       "      <th>Trip_Pickup_DateTime</th>\n",
       "      <th>Trip_Dropoff_DateTime</th>\n",
       "      <th>Passenger_Count</th>\n",
       "      <th>Trip_Distance</th>\n",
       "      <th>Start_Lon</th>\n",
       "      <th>Start_Lat</th>\n",
       "      <th>Rate_Code</th>\n",
       "      <th>store_and_forward</th>\n",
       "      <th>End_Lon</th>\n",
       "      <th>End_Lat</th>\n",
       "      <th>Payment_Type</th>\n",
       "      <th>Fare_Amt</th>\n",
       "      <th>surcharge</th>\n",
       "      <th>mta_tax</th>\n",
       "      <th>Tip_Amt</th>\n",
       "      <th>Tolls_Amt</th>\n",
       "      <th>Total_Amt</th>\n",
       "    </tr>\n",
       "  </thead>\n",
       "  <tbody>\n",
       "    <tr>\n",
       "      <th>0</th>\n",
       "      <td>VTS</td>\n",
       "      <td>2009-01-04 02:52:00</td>\n",
       "      <td>2009-01-04 03:02:00</td>\n",
       "      <td>1</td>\n",
       "      <td>2.63</td>\n",
       "      <td>-73.991957</td>\n",
       "      <td>40.721567</td>\n",
       "      <td>&lt;NA&gt;</td>\n",
       "      <td>&lt;NA&gt;</td>\n",
       "      <td>-73.993803</td>\n",
       "      <td>40.695922</td>\n",
       "      <td>CASH</td>\n",
       "      <td>8.9</td>\n",
       "      <td>0.5</td>\n",
       "      <td>&lt;NA&gt;</td>\n",
       "      <td>0.0</td>\n",
       "      <td>0</td>\n",
       "      <td>9.4</td>\n",
       "    </tr>\n",
       "    <tr>\n",
       "      <th>1</th>\n",
       "      <td>VTS</td>\n",
       "      <td>2009-01-04 03:31:00</td>\n",
       "      <td>2009-01-04 03:38:00</td>\n",
       "      <td>3</td>\n",
       "      <td>4.55</td>\n",
       "      <td>-73.982102</td>\n",
       "      <td>40.736290</td>\n",
       "      <td>&lt;NA&gt;</td>\n",
       "      <td>&lt;NA&gt;</td>\n",
       "      <td>-73.955850</td>\n",
       "      <td>40.768030</td>\n",
       "      <td>Credit</td>\n",
       "      <td>12.1</td>\n",
       "      <td>0.5</td>\n",
       "      <td>&lt;NA&gt;</td>\n",
       "      <td>2.0</td>\n",
       "      <td>0</td>\n",
       "      <td>14.6</td>\n",
       "    </tr>\n",
       "  </tbody>\n",
       "</table>\n",
       "</div>"
      ],
      "text/plain": [
       "  vendor_name Trip_Pickup_DateTime Trip_Dropoff_DateTime  Passenger_Count  \\\n",
       "0         VTS  2009-01-04 02:52:00   2009-01-04 03:02:00                1   \n",
       "1         VTS  2009-01-04 03:31:00   2009-01-04 03:38:00                3   \n",
       "\n",
       "   Trip_Distance  Start_Lon  Start_Lat Rate_Code store_and_forward    End_Lon  \\\n",
       "0           2.63 -73.991957  40.721567      <NA>              <NA> -73.993803   \n",
       "1           4.55 -73.982102  40.736290      <NA>              <NA> -73.955850   \n",
       "\n",
       "     End_Lat Payment_Type  Fare_Amt  surcharge mta_tax  Tip_Amt  Tolls_Amt  \\\n",
       "0  40.695922         CASH       8.9        0.5    <NA>      0.0          0   \n",
       "1  40.768030       Credit      12.1        0.5    <NA>      2.0          0   \n",
       "\n",
       "   Total_Amt  \n",
       "0        9.4  \n",
       "1       14.6  "
      ]
     },
     "execution_count": 53,
     "metadata": {},
     "output_type": "execute_result"
    }
   ],
   "source": [
    "%%time\n",
    "## read in csv to dask cudf with Rapids\n",
    "from numpy import dtype\n",
    "## get meta data (dtypes)\n",
    "meta = pd.read_csv(\"gs://shakdemo-hyperplane/data/taxi/yellow_tripdata_2009-01.csv\", nrows = 5).dtypes.to_dict()\n",
    "\n",
    "## read in csv to dask cudf with Rapids\n",
    "df = dask_cudf.read_csv(\"gs://shakdemo-hyperplane/data/taxi/yellow_tripdata_2009-01.csv\",  dtype=meta)\n",
    "df.head(2)"
   ]
  },
  {
   "cell_type": "code",
   "execution_count": 54,
   "id": "33a0d188",
   "metadata": {},
   "outputs": [],
   "source": [
    "def haversine_dist(df: pd.DataFrame)-> pd.DataFrame:\n",
    "    h_distance = cuspatial.haversine_distance(df['Start_Lon'], df['Start_Lat'], df['End_Lon'], df['End_Lat'])\n",
    "    df['h_distance']= h_distance\n",
    "    df['h_distance']= df['h_distance'].astype('float32')\n",
    "    return df"
   ]
  },
  {
   "cell_type": "code",
   "execution_count": 55,
   "id": "9c80fa66",
   "metadata": {},
   "outputs": [
    {
     "name": "stdout",
     "output_type": "stream",
     "text": [
      "CPU times: user 499 ms, sys: 196 ms, total: 695 ms\n",
      "Wall time: 18.9 s\n"
     ]
    },
    {
     "data": {
      "text/plain": [
       "0          2.855836\n",
       "1          4.164867\n",
       "2         11.672168\n",
       "3          6.835177\n",
       "4          0.582929\n",
       "            ...    \n",
       "678485     1.283743\n",
       "678486     2.545044\n",
       "678487     5.069267\n",
       "678488     3.985862\n",
       "678489     0.000000\n",
       "Name: h_distance, Length: 14092413, dtype: float32"
      ]
     },
     "execution_count": 55,
     "metadata": {},
     "output_type": "execute_result"
    }
   ],
   "source": [
    "%%time\n",
    "df_result = df.map_partitions(haversine_dist)\n",
    "df_result['h_distance'].compute()"
   ]
  },
  {
   "cell_type": "code",
   "execution_count": 57,
   "id": "6d2055d6",
   "metadata": {},
   "outputs": [],
   "source": [
    "client.close()\n",
    "cluster.close()"
   ]
  },
  {
   "cell_type": "markdown",
   "id": "c07fe79d",
   "metadata": {},
   "source": [
    "### with one GPU and RAPIDS, the computation took 24 seconds"
   ]
  },
  {
   "cell_type": "markdown",
   "id": "a0602abf",
   "metadata": {},
   "source": [
    "## Multi-GPU with one-liner"
   ]
  },
  {
   "cell_type": "code",
   "execution_count": 58,
   "id": "196d291b",
   "metadata": {},
   "outputs": [
    {
     "name": "stdout",
     "output_type": "stream",
     "text": [
      "👉 Hyperplane: selecting worker node pool\n",
      "👉 Hyperplane: selecting scheduler node pool\n",
      "Creating scheduler pod on cluster. This may take some time.\n",
      "👉 Hyperplane: spinning up a dask cluster with a scheduler as a standalone container.\n",
      "👉 Hyperplane: In a few minutes you'll be able to access the dashboard at https://shakdemo.hyperplane.dev/dask-cluster-b14cbf0d-976b-492f-b12d-a42947d0281e/status\n",
      "👉 Hyperplane: to get logs from all workers, do `cluster.get_logs()`\n"
     ]
    }
   ],
   "source": [
    "## spin up a remote dask cluster\n",
    "from hyperplane_gpu import notebook_common as nc\n",
    "\n",
    "client, cluster = nc.initialize_cluster(\n",
    "    nprocs=1,\n",
    "    nthreads=8,\n",
    "    ram_gb_per_proc=24,\n",
    "    cores_per_worker=6,\n",
    "    num_workers = 2,\n",
    "    ngpus = 1,\n",
    ")"
   ]
  },
  {
   "cell_type": "code",
   "execution_count": 59,
   "id": "92b1818e",
   "metadata": {},
   "outputs": [
    {
     "name": "stdout",
     "output_type": "stream",
     "text": [
      "CPU times: user 121 ms, sys: 38.6 ms, total: 160 ms\n",
      "Wall time: 7.81 s\n"
     ]
    },
    {
     "data": {
      "text/html": [
       "<div>\n",
       "<style scoped>\n",
       "    .dataframe tbody tr th:only-of-type {\n",
       "        vertical-align: middle;\n",
       "    }\n",
       "\n",
       "    .dataframe tbody tr th {\n",
       "        vertical-align: top;\n",
       "    }\n",
       "\n",
       "    .dataframe thead th {\n",
       "        text-align: right;\n",
       "    }\n",
       "</style>\n",
       "<table border=\"1\" class=\"dataframe\">\n",
       "  <thead>\n",
       "    <tr style=\"text-align: right;\">\n",
       "      <th></th>\n",
       "      <th>vendor_name</th>\n",
       "      <th>Trip_Pickup_DateTime</th>\n",
       "      <th>Trip_Dropoff_DateTime</th>\n",
       "      <th>Passenger_Count</th>\n",
       "      <th>Trip_Distance</th>\n",
       "      <th>Start_Lon</th>\n",
       "      <th>Start_Lat</th>\n",
       "      <th>Rate_Code</th>\n",
       "      <th>store_and_forward</th>\n",
       "      <th>End_Lon</th>\n",
       "      <th>End_Lat</th>\n",
       "      <th>Payment_Type</th>\n",
       "      <th>Fare_Amt</th>\n",
       "      <th>surcharge</th>\n",
       "      <th>mta_tax</th>\n",
       "      <th>Tip_Amt</th>\n",
       "      <th>Tolls_Amt</th>\n",
       "      <th>Total_Amt</th>\n",
       "    </tr>\n",
       "  </thead>\n",
       "  <tbody>\n",
       "    <tr>\n",
       "      <th>0</th>\n",
       "      <td>VTS</td>\n",
       "      <td>2009-01-04 02:52:00</td>\n",
       "      <td>2009-01-04 03:02:00</td>\n",
       "      <td>1</td>\n",
       "      <td>2.63</td>\n",
       "      <td>-73.991957</td>\n",
       "      <td>40.721567</td>\n",
       "      <td>&lt;NA&gt;</td>\n",
       "      <td>&lt;NA&gt;</td>\n",
       "      <td>-73.993803</td>\n",
       "      <td>40.695922</td>\n",
       "      <td>CASH</td>\n",
       "      <td>8.9</td>\n",
       "      <td>0.5</td>\n",
       "      <td>&lt;NA&gt;</td>\n",
       "      <td>0.0</td>\n",
       "      <td>0</td>\n",
       "      <td>9.4</td>\n",
       "    </tr>\n",
       "    <tr>\n",
       "      <th>1</th>\n",
       "      <td>VTS</td>\n",
       "      <td>2009-01-04 03:31:00</td>\n",
       "      <td>2009-01-04 03:38:00</td>\n",
       "      <td>3</td>\n",
       "      <td>4.55</td>\n",
       "      <td>-73.982102</td>\n",
       "      <td>40.736290</td>\n",
       "      <td>&lt;NA&gt;</td>\n",
       "      <td>&lt;NA&gt;</td>\n",
       "      <td>-73.955850</td>\n",
       "      <td>40.768030</td>\n",
       "      <td>Credit</td>\n",
       "      <td>12.1</td>\n",
       "      <td>0.5</td>\n",
       "      <td>&lt;NA&gt;</td>\n",
       "      <td>2.0</td>\n",
       "      <td>0</td>\n",
       "      <td>14.6</td>\n",
       "    </tr>\n",
       "  </tbody>\n",
       "</table>\n",
       "</div>"
      ],
      "text/plain": [
       "  vendor_name Trip_Pickup_DateTime Trip_Dropoff_DateTime  Passenger_Count  \\\n",
       "0         VTS  2009-01-04 02:52:00   2009-01-04 03:02:00                1   \n",
       "1         VTS  2009-01-04 03:31:00   2009-01-04 03:38:00                3   \n",
       "\n",
       "   Trip_Distance  Start_Lon  Start_Lat Rate_Code store_and_forward    End_Lon  \\\n",
       "0           2.63 -73.991957  40.721567      <NA>              <NA> -73.993803   \n",
       "1           4.55 -73.982102  40.736290      <NA>              <NA> -73.955850   \n",
       "\n",
       "     End_Lat Payment_Type  Fare_Amt  surcharge mta_tax  Tip_Amt  Tolls_Amt  \\\n",
       "0  40.695922         CASH       8.9        0.5    <NA>      0.0          0   \n",
       "1  40.768030       Credit      12.1        0.5    <NA>      2.0          0   \n",
       "\n",
       "   Total_Amt  \n",
       "0        9.4  \n",
       "1       14.6  "
      ]
     },
     "execution_count": 59,
     "metadata": {},
     "output_type": "execute_result"
    }
   ],
   "source": [
    "%%time\n",
    "from numpy import dtype\n",
    "## get meta data (dtypes)\n",
    "meta = pd.read_csv(\"gs://shakdemo-hyperplane/data/taxi/yellow_tripdata_2009-01.csv\", nrows = 5).dtypes.to_dict()\n",
    "\n",
    "## read in csv to dask cudf with Rapids\n",
    "df = dask_cudf.read_csv(\"gs://shakdemo-hyperplane/data/taxi/yellow_tripdata_2009-01.csv\",  dtype=meta)\n",
    "df.head(2)"
   ]
  },
  {
   "cell_type": "code",
   "execution_count": 60,
   "id": "3629b044",
   "metadata": {},
   "outputs": [
    {
     "name": "stdout",
     "output_type": "stream",
     "text": [
      "number of partions 10\n",
      "number of rows  14092413\n"
     ]
    }
   ],
   "source": [
    "print(f'number of partions {df.npartitions}')\n",
    "print(f'number of rows  {df.map_partitions(len).compute().sum()}')"
   ]
  },
  {
   "cell_type": "code",
   "execution_count": null,
   "id": "59b390c3",
   "metadata": {},
   "outputs": [],
   "source": [
    "def haversine_dist(df: pd.DataFrame)-> pd.DataFrame:\n",
    "    h_distance = cuspatial.haversine_distance(df['Start_Lon'], df['Start_Lat'], df['End_Lon'], df['End_Lat'])\n",
    "    df['h_distance']= h_distance\n",
    "    df['h_distance']= df['h_distance'].astype('float32')\n",
    "    return df"
   ]
  },
  {
   "cell_type": "code",
   "execution_count": 62,
   "id": "0c6be8d9",
   "metadata": {},
   "outputs": [
    {
     "name": "stdout",
     "output_type": "stream",
     "text": [
      "CPU times: user 44.9 ms, sys: 5.68 ms, total: 50.5 ms\n",
      "Wall time: 2.69 s\n"
     ]
    },
    {
     "data": {
      "text/html": [
       "<div>\n",
       "<style scoped>\n",
       "    .dataframe tbody tr th:only-of-type {\n",
       "        vertical-align: middle;\n",
       "    }\n",
       "\n",
       "    .dataframe tbody tr th {\n",
       "        vertical-align: top;\n",
       "    }\n",
       "\n",
       "    .dataframe thead th {\n",
       "        text-align: right;\n",
       "    }\n",
       "</style>\n",
       "<table border=\"1\" class=\"dataframe\">\n",
       "  <thead>\n",
       "    <tr style=\"text-align: right;\">\n",
       "      <th></th>\n",
       "      <th>vendor_name</th>\n",
       "      <th>Trip_Pickup_DateTime</th>\n",
       "      <th>Trip_Dropoff_DateTime</th>\n",
       "      <th>Passenger_Count</th>\n",
       "      <th>Trip_Distance</th>\n",
       "      <th>Start_Lon</th>\n",
       "      <th>Start_Lat</th>\n",
       "      <th>Rate_Code</th>\n",
       "      <th>store_and_forward</th>\n",
       "      <th>End_Lon</th>\n",
       "      <th>End_Lat</th>\n",
       "      <th>Payment_Type</th>\n",
       "      <th>Fare_Amt</th>\n",
       "      <th>surcharge</th>\n",
       "      <th>mta_tax</th>\n",
       "      <th>Tip_Amt</th>\n",
       "      <th>Tolls_Amt</th>\n",
       "      <th>Total_Amt</th>\n",
       "      <th>h_distance</th>\n",
       "    </tr>\n",
       "  </thead>\n",
       "  <tbody>\n",
       "    <tr>\n",
       "      <th>0</th>\n",
       "      <td>VTS</td>\n",
       "      <td>2009-01-04 02:52:00</td>\n",
       "      <td>2009-01-04 03:02:00</td>\n",
       "      <td>1</td>\n",
       "      <td>2.63</td>\n",
       "      <td>-73.991957</td>\n",
       "      <td>40.721567</td>\n",
       "      <td>&lt;NA&gt;</td>\n",
       "      <td>&lt;NA&gt;</td>\n",
       "      <td>-73.993803</td>\n",
       "      <td>40.695922</td>\n",
       "      <td>CASH</td>\n",
       "      <td>8.9</td>\n",
       "      <td>0.5</td>\n",
       "      <td>&lt;NA&gt;</td>\n",
       "      <td>0.00</td>\n",
       "      <td>0</td>\n",
       "      <td>9.40</td>\n",
       "      <td>2.855836</td>\n",
       "    </tr>\n",
       "    <tr>\n",
       "      <th>1</th>\n",
       "      <td>VTS</td>\n",
       "      <td>2009-01-04 03:31:00</td>\n",
       "      <td>2009-01-04 03:38:00</td>\n",
       "      <td>3</td>\n",
       "      <td>4.55</td>\n",
       "      <td>-73.982102</td>\n",
       "      <td>40.736290</td>\n",
       "      <td>&lt;NA&gt;</td>\n",
       "      <td>&lt;NA&gt;</td>\n",
       "      <td>-73.955850</td>\n",
       "      <td>40.768030</td>\n",
       "      <td>Credit</td>\n",
       "      <td>12.1</td>\n",
       "      <td>0.5</td>\n",
       "      <td>&lt;NA&gt;</td>\n",
       "      <td>2.00</td>\n",
       "      <td>0</td>\n",
       "      <td>14.60</td>\n",
       "      <td>4.164867</td>\n",
       "    </tr>\n",
       "    <tr>\n",
       "      <th>2</th>\n",
       "      <td>VTS</td>\n",
       "      <td>2009-01-03 15:43:00</td>\n",
       "      <td>2009-01-03 15:57:00</td>\n",
       "      <td>5</td>\n",
       "      <td>10.35</td>\n",
       "      <td>-74.002587</td>\n",
       "      <td>40.739748</td>\n",
       "      <td>&lt;NA&gt;</td>\n",
       "      <td>&lt;NA&gt;</td>\n",
       "      <td>-73.869983</td>\n",
       "      <td>40.770225</td>\n",
       "      <td>Credit</td>\n",
       "      <td>23.7</td>\n",
       "      <td>0.0</td>\n",
       "      <td>&lt;NA&gt;</td>\n",
       "      <td>4.74</td>\n",
       "      <td>0</td>\n",
       "      <td>28.44</td>\n",
       "      <td>11.672168</td>\n",
       "    </tr>\n",
       "    <tr>\n",
       "      <th>3</th>\n",
       "      <td>DDS</td>\n",
       "      <td>2009-01-01 20:52:58</td>\n",
       "      <td>2009-01-01 21:14:00</td>\n",
       "      <td>1</td>\n",
       "      <td>5.00</td>\n",
       "      <td>-73.974267</td>\n",
       "      <td>40.790955</td>\n",
       "      <td>&lt;NA&gt;</td>\n",
       "      <td>&lt;NA&gt;</td>\n",
       "      <td>-73.996558</td>\n",
       "      <td>40.731849</td>\n",
       "      <td>CREDIT</td>\n",
       "      <td>14.9</td>\n",
       "      <td>0.5</td>\n",
       "      <td>&lt;NA&gt;</td>\n",
       "      <td>3.05</td>\n",
       "      <td>0</td>\n",
       "      <td>18.45</td>\n",
       "      <td>6.835177</td>\n",
       "    </tr>\n",
       "    <tr>\n",
       "      <th>4</th>\n",
       "      <td>DDS</td>\n",
       "      <td>2009-01-24 16:18:23</td>\n",
       "      <td>2009-01-24 16:24:56</td>\n",
       "      <td>1</td>\n",
       "      <td>0.40</td>\n",
       "      <td>-74.001580</td>\n",
       "      <td>40.719382</td>\n",
       "      <td>&lt;NA&gt;</td>\n",
       "      <td>&lt;NA&gt;</td>\n",
       "      <td>-74.008378</td>\n",
       "      <td>40.720350</td>\n",
       "      <td>CASH</td>\n",
       "      <td>3.7</td>\n",
       "      <td>0.0</td>\n",
       "      <td>&lt;NA&gt;</td>\n",
       "      <td>0.00</td>\n",
       "      <td>0</td>\n",
       "      <td>3.70</td>\n",
       "      <td>0.582929</td>\n",
       "    </tr>\n",
       "  </tbody>\n",
       "</table>\n",
       "</div>"
      ],
      "text/plain": [
       "  vendor_name Trip_Pickup_DateTime Trip_Dropoff_DateTime  Passenger_Count  \\\n",
       "0         VTS  2009-01-04 02:52:00   2009-01-04 03:02:00                1   \n",
       "1         VTS  2009-01-04 03:31:00   2009-01-04 03:38:00                3   \n",
       "2         VTS  2009-01-03 15:43:00   2009-01-03 15:57:00                5   \n",
       "3         DDS  2009-01-01 20:52:58   2009-01-01 21:14:00                1   \n",
       "4         DDS  2009-01-24 16:18:23   2009-01-24 16:24:56                1   \n",
       "\n",
       "   Trip_Distance  Start_Lon  Start_Lat Rate_Code store_and_forward    End_Lon  \\\n",
       "0           2.63 -73.991957  40.721567      <NA>              <NA> -73.993803   \n",
       "1           4.55 -73.982102  40.736290      <NA>              <NA> -73.955850   \n",
       "2          10.35 -74.002587  40.739748      <NA>              <NA> -73.869983   \n",
       "3           5.00 -73.974267  40.790955      <NA>              <NA> -73.996558   \n",
       "4           0.40 -74.001580  40.719382      <NA>              <NA> -74.008378   \n",
       "\n",
       "     End_Lat Payment_Type  Fare_Amt  surcharge mta_tax  Tip_Amt  Tolls_Amt  \\\n",
       "0  40.695922         CASH       8.9        0.5    <NA>     0.00          0   \n",
       "1  40.768030       Credit      12.1        0.5    <NA>     2.00          0   \n",
       "2  40.770225       Credit      23.7        0.0    <NA>     4.74          0   \n",
       "3  40.731849       CREDIT      14.9        0.5    <NA>     3.05          0   \n",
       "4  40.720350         CASH       3.7        0.0    <NA>     0.00          0   \n",
       "\n",
       "   Total_Amt  h_distance  \n",
       "0       9.40    2.855836  \n",
       "1      14.60    4.164867  \n",
       "2      28.44   11.672168  \n",
       "3      18.45    6.835177  \n",
       "4       3.70    0.582929  "
      ]
     },
     "execution_count": 62,
     "metadata": {},
     "output_type": "execute_result"
    }
   ],
   "source": [
    "%%time\n",
    "df_result = df.map_partitions(haversine_dist)\n",
    "df_result.head()"
   ]
  },
  {
   "cell_type": "code",
   "execution_count": 63,
   "id": "12dd911f",
   "metadata": {},
   "outputs": [
    {
     "name": "stdout",
     "output_type": "stream",
     "text": [
      "CPU times: user 159 ms, sys: 88.5 ms, total: 247 ms\n",
      "Wall time: 8.72 s\n"
     ]
    },
    {
     "data": {
      "text/plain": [
       "0          2.855836\n",
       "1          4.164867\n",
       "2         11.672168\n",
       "3          6.835177\n",
       "4          0.582929\n",
       "            ...    \n",
       "678485     1.283743\n",
       "678486     2.545044\n",
       "678487     5.069267\n",
       "678488     3.985862\n",
       "678489     0.000000\n",
       "Name: h_distance, Length: 14092413, dtype: float32"
      ]
     },
     "execution_count": 63,
     "metadata": {},
     "output_type": "execute_result"
    }
   ],
   "source": [
    "%%time\n",
    "df_result['h_distance'].compute()"
   ]
  },
  {
   "cell_type": "markdown",
   "id": "93ca6ee0",
   "metadata": {},
   "source": [
    "#### with 2 GPU took 8.8 seconds, compare to 1 GPU, the multi-GPU on Hyperplane achieves a **3x** speed up !"
   ]
  },
  {
   "cell_type": "code",
   "execution_count": 64,
   "id": "919a814a",
   "metadata": {},
   "outputs": [],
   "source": [
    "client.close()\n",
    "cluster.close()"
   ]
  },
  {
   "cell_type": "markdown",
   "id": "43cadf79",
   "metadata": {},
   "source": [
    "## compared to pandas\n",
    "- to the entire 2.4G, 14 million rows of data will cause OOM error\n",
    "- read 10% of the data here "
   ]
  },
  {
   "cell_type": "code",
   "execution_count": 38,
   "id": "134a5e48",
   "metadata": {},
   "outputs": [],
   "source": [
    "import pandas as pd\n",
    "from math import radians\n",
    "from numpy import cos, sin, arcsin, sqrt\n",
    "from sklearn.metrics.pairwise import haversine_distances"
   ]
  },
  {
   "cell_type": "code",
   "execution_count": 39,
   "id": "cc42ddea",
   "metadata": {},
   "outputs": [
    {
     "name": "stdout",
     "output_type": "stream",
     "text": [
      "data ingesting time used 7.278573036193848 seconds\n"
     ]
    }
   ],
   "source": [
    "start = time.time()\n",
    "df_pd = pd.read_csv(\"gs://shakdemo-hyperplane/data/taxi/yellow_tripdata_2009-01.csv\", nrows = 1_400_000)\n",
    "end = time.time()\n",
    "print(f\"data ingesting time used {end - start} seconds\")"
   ]
  },
  {
   "cell_type": "code",
   "execution_count": 40,
   "id": "9fac4770",
   "metadata": {},
   "outputs": [],
   "source": [
    "def haversine(row):\n",
    "    lon1 = row['Start_Lon']\n",
    "    lat1 = row['Start_Lat']\n",
    "    lon2 = row['End_Lon']\n",
    "    lat2 = row['End_Lat']\n",
    "    lon1, lat1, lon2, lat2 = map(radians, [lon1, lat1, lon2, lat2])\n",
    "    dlon = lon2 - lon1 \n",
    "    dlat = lat2 - lat1 \n",
    "    a = sin(dlat/2)**2 + cos(lat1) * cos(lat2) * sin(dlon/2)**2\n",
    "    c = 2 * arcsin(sqrt(a)) \n",
    "    km = 6367 * c\n",
    "    \n",
    "#    ## scikit-learn implementation 1.25x slower than the numpy impletmentation\n",
    "#     km = haversine_distances([[lon1, lat1], [lat2, lon2]])[0,1]* 6371000/1000\n",
    "\n",
    "    return km"
   ]
  },
  {
   "cell_type": "code",
   "execution_count": 42,
   "id": "0b1b821b",
   "metadata": {},
   "outputs": [
    {
     "name": "stdout",
     "output_type": "stream",
     "text": [
      "pandas haversine_distances compute time 38.15176582336426 seconds\n",
      "CPU times: user 37.2 s, sys: 1.5 s, total: 38.7 s\n",
      "Wall time: 38.2 s\n"
     ]
    },
    {
     "name": "stderr",
     "output_type": "stream",
     "text": [
      "distributed.client - ERROR - Failed to reconnect to scheduler after 1200.00 seconds, closing client\n",
      "_GatheringFuture exception was never retrieved\n",
      "future: <_GatheringFuture finished exception=CancelledError()>\n",
      "asyncio.exceptions.CancelledError\n"
     ]
    }
   ],
   "source": [
    "%%time\n",
    "start = time.time()\n",
    "df_pd['distance'] = df_pd.apply(haversine, axis=1)\n",
    "end = time.time()\n",
    "print(f\"pandas haversine_distances compute time {end - start} seconds\")"
   ]
  },
  {
   "cell_type": "markdown",
   "id": "d8c5ca48",
   "metadata": {},
   "source": [
    "- use 0.1% of the data took 0.5s\n",
    "- usse 1% of the data took 4s \n",
    "- **use 10% of the data took 40s**\n",
    "- use 100% of the data, it causes memory issue on this machine, assume it will take ~ 400s for a big enough CPU machine\n",
    "- with Rapids CuSpatial on hyperplane with distributed GPU nodes, took 8 seconds, **50x** speed up"
   ]
  }
 ],
 "metadata": {
  "interpreter": {
   "hash": "31f2aee4e71d21fbe5cf8b01ff0e069b9275f58929596ceb00d14d90e3e16cd6"
  },
  "kernelspec": {
   "display_name": "Python [conda env:root] *",
   "language": "python",
   "name": "python3"
  },
  "language_info": {
   "codemirror_mode": {
    "name": "ipython",
    "version": 3
   },
   "file_extension": ".py",
   "mimetype": "text/x-python",
   "name": "python",
   "nbconvert_exporter": "python",
   "pygments_lexer": "ipython3",
   "version": "3.8.2"
  }
 },
 "nbformat": 4,
 "nbformat_minor": 5
}
