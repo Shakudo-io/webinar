{
 "cells": [
  {
   "cell_type": "markdown",
   "id": "f9929921-9609-44d9-be97-27f7948da823",
   "metadata": {},
   "source": [
    "## Scale out to distributed Dask on CPU\n",
    "\n",
    "**When to use**: \n",
    "- When data becomes **too large** to read in to local memory\n",
    "- Need distributed clusters to handle the compute end to end\n",
    "- Read data directly into remote Dask workers to overcome the bottleneck of local memory\n",
    "\n",
    "**How to use**:\n",
    "- `nc.initialize_cluster()` to intialize a remote distributed Dask cluster with CPU or GPU\n",
    "- `cluster.close()` to shutdown the remote cluster after computation"
   ]
  },
  {
   "cell_type": "code",
   "execution_count": 2,
   "id": "4868dd54-1840-46b3-a1a4-1f9ffdf98ed6",
   "metadata": {},
   "outputs": [
    {
     "name": "stdout",
     "output_type": "stream",
     "text": [
      "👉 Hyperplane: selecting worker node pool\n",
      "👉 Hyperplane: selecting scheduler node pool\n",
      "Creating scheduler pod on cluster. This may take some time.\n",
      "👉 Hyperplane: spinning up a dask cluster with a scheduler as a standalone container.\n",
      "👉 Hyperplane: In a few minutes you'll be able to access the dashboard at https://shakdemo.hyperplane.dev/dask-cluster-f6d102b7-4881-40c1-8288-7eb5b7a54856/status\n",
      "👉 Hyperplane: to get logs from all workers, do `cluster.get_logs()`\n"
     ]
    }
   ],
   "source": [
    "from hyperplane import notebook_common as nc\n",
    "\n",
    "client, cluster = nc.initialize_cluster(num_workers = 2)"
   ]
  },
  {
   "cell_type": "code",
   "execution_count": 3,
   "id": "e11e1fb8-7bc5-4b92-81fd-98be5e2921c1",
   "metadata": {},
   "outputs": [
    {
     "data": {
      "text/html": [
       "<table style=\"border: 2px solid white;\">\n",
       "<tr>\n",
       "<td style=\"vertical-align: top; border: 0px solid white\">\n",
       "<h3 style=\"text-align: left;\">Client</h3>\n",
       "<ul style=\"text-align: left; list-style: none; margin: 0; padding: 0;\">\n",
       "  <li><b>Scheduler: </b>tcp://dask-cluster-f6d102b7-4881-40c1-8288-7eb5b7a54856.jhub-67l2bgl0:8786</li>\n",
       "  <li><b>Dashboard: </b><a href='http://dask-cluster-f6d102b7-4881-40c1-8288-7eb5b7a54856.jhub-67l2bgl0:8787/status' target='_blank'>http://dask-cluster-f6d102b7-4881-40c1-8288-7eb5b7a54856.jhub-67l2bgl0:8787/status</a></li>\n",
       "</ul>\n",
       "</td>\n",
       "<td style=\"vertical-align: top; border: 0px solid white\">\n",
       "<h3 style=\"text-align: left;\">Cluster</h3>\n",
       "<ul style=\"text-align: left; list-style:none; margin: 0; padding: 0;\">\n",
       "  <li><b>Workers: </b>30</li>\n",
       "  <li><b>Cores: </b>30</li>\n",
       "  <li><b>Memory: </b>22.35 GiB</li>\n",
       "</ul>\n",
       "</td>\n",
       "</tr>\n",
       "</table>"
      ],
      "text/plain": [
       "<Client: 'tcp://10.1.220.4:8786' processes=0 threads=0, memory=0 B>"
      ]
     },
     "execution_count": 3,
     "metadata": {},
     "output_type": "execute_result"
    }
   ],
   "source": [
    "client"
   ]
  },
  {
   "cell_type": "markdown",
   "id": "46ffdb6e-a766-4d3d-b795-571818676cc2",
   "metadata": {},
   "source": [
    "## Example 1 K-means"
   ]
  },
  {
   "cell_type": "code",
   "execution_count": 5,
   "id": "f7342415-a701-4739-abd1-e29f5490b82a",
   "metadata": {},
   "outputs": [
    {
     "data": {
      "text/html": [
       "<div>\n",
       "<style scoped>\n",
       "    .dataframe tbody tr th:only-of-type {\n",
       "        vertical-align: middle;\n",
       "    }\n",
       "\n",
       "    .dataframe tbody tr th {\n",
       "        vertical-align: top;\n",
       "    }\n",
       "\n",
       "    .dataframe thead th {\n",
       "        text-align: right;\n",
       "    }\n",
       "</style>\n",
       "<table border=\"1\" class=\"dataframe\">\n",
       "  <thead>\n",
       "    <tr style=\"text-align: right;\">\n",
       "      <th></th>\n",
       "      <th>x</th>\n",
       "      <th>y</th>\n",
       "      <th>label</th>\n",
       "    </tr>\n",
       "  </thead>\n",
       "  <tbody>\n",
       "    <tr>\n",
       "      <th>0</th>\n",
       "      <td>0.149094</td>\n",
       "      <td>5.599997</td>\n",
       "      <td>0</td>\n",
       "    </tr>\n",
       "    <tr>\n",
       "      <th>1</th>\n",
       "      <td>4.918161</td>\n",
       "      <td>-0.026502</td>\n",
       "      <td>5</td>\n",
       "    </tr>\n",
       "  </tbody>\n",
       "</table>\n",
       "</div>"
      ],
      "text/plain": [
       "          x         y  label\n",
       "0  0.149094  5.599997      0\n",
       "1  4.918161 -0.026502      5"
      ]
     },
     "execution_count": 5,
     "metadata": {},
     "output_type": "execute_result"
    }
   ],
   "source": [
    "import dask.dataframe as dd \n",
    "data_cpu =dd.read_csv(\"gs://shakdemo-hyperplane/data/synthetic_data/*.csv\")\n",
    "data_cpu.head(2)"
   ]
  },
  {
   "cell_type": "code",
   "execution_count": 6,
   "id": "56a80d10-c71e-4edd-a4f2-68341dde2483",
   "metadata": {},
   "outputs": [
    {
     "name": "stdout",
     "output_type": "stream",
     "text": [
      "CPU times: user 4.71 s, sys: 318 ms, total: 5.03 s\n",
      "Wall time: 3min 11s\n"
     ]
    }
   ],
   "source": [
    "%%time\n",
    "from dask_ml.cluster import KMeans as daskKMeans\n",
    "\n",
    "# Setup the Dask task graph.\n",
    "# Instantiate, train and predict.\n",
    "kmeans_dask = daskKMeans(init=\"k-means||\",\n",
    "                         n_clusters=6,\n",
    "                         random_state=0)\n",
    "kmeans_dask.fit(data_cpu[['x','y']])\n",
    "kmeans_dask_df = kmeans_dask.predict(data_cpu[['x','y']])\n",
    "\n",
    "# Execute the Dask task graph.\n",
    "labels_dask = kmeans_dask_df.compute()"
   ]
  },
  {
   "cell_type": "code",
   "execution_count": 8,
   "id": "3aef6caf-c732-4e48-9cff-5662779bfc6e",
   "metadata": {},
   "outputs": [
    {
     "data": {
      "text/plain": [
       "(24000000,)"
      ]
     },
     "execution_count": 8,
     "metadata": {},
     "output_type": "execute_result"
    }
   ],
   "source": [
    "labels_dask.shape"
   ]
  },
  {
   "cell_type": "code",
   "execution_count": 9,
   "id": "bb37c330-6eb0-4105-8c85-9afc07d14433",
   "metadata": {},
   "outputs": [],
   "source": [
    "cluster.close()"
   ]
  },
  {
   "cell_type": "markdown",
   "id": "7bcb8a33-e038-4512-967c-e2bf608e7aee",
   "metadata": {},
   "source": [
    "## Example 2 - lightgbm"
   ]
  },
  {
   "cell_type": "code",
   "execution_count": null,
   "id": "3eb8286a-b7e9-46a2-a6d4-9d4014db2923",
   "metadata": {},
   "outputs": [],
   "source": []
  }
 ],
 "metadata": {
  "kernelspec": {
   "display_name": "Python 3 (ipykernel)",
   "language": "python",
   "name": "python3"
  },
  "language_info": {
   "codemirror_mode": {
    "name": "ipython",
    "version": 3
   },
   "file_extension": ".py",
   "mimetype": "text/x-python",
   "name": "python",
   "nbconvert_exporter": "python",
   "pygments_lexer": "ipython3",
   "version": "3.8.10"
  }
 },
 "nbformat": 4,
 "nbformat_minor": 5
}
