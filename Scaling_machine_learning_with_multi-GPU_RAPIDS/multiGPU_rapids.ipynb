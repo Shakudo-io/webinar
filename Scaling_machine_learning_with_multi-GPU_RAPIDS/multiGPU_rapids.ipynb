{
 "cells": [
  {
   "cell_type": "markdown",
   "id": "388db1a7",
   "metadata": {},
   "source": [
    "## scaling out k-means to multi-GPU when data is large"
   ]
  },
  {
   "cell_type": "code",
   "execution_count": 1,
   "id": "03c874d1",
   "metadata": {},
   "outputs": [],
   "source": [
    "import pandas as pd\n",
    "import cudf\n",
    "\n",
    "# Data generation.\n",
    "from sklearn.datasets import make_blobs\n",
    "\n",
    "# Local compute.\n",
    "from sklearn.cluster import KMeans as cpuKMeans\n",
    "from cuml.cluster import KMeans as gpuKMeans\n",
    "\n",
    "# Distributed compute.\n",
    "import dask_cudf\n",
    "from dask.distributed import Client, wait\n",
    "from dask_cuda import LocalCUDACluster\n",
    "from dask_ml.cluster import KMeans as daskKMeans\n",
    "from cuml.dask.cluster.kmeans import KMeans as mnmgKMeans\n",
    "\n",
    "# Comparing results.\n",
    "import cupy\n",
    "import matplotlib.pyplot as plt\n",
    "from sklearn.metrics import adjusted_rand_score\n",
    "from tqdm.notebook import tqdm\n",
    "\n",
    "import matplotlib.pyplot as plt\n",
    "# Enable drawing images in this notebook.  No need to for interactive graphics.\n",
    "%matplotlib inline\n",
    "\n",
    "import gcsfs\n",
    "fs = gcsfs.GCSFileSystem(cache_timeout = 0)"
   ]
  },
  {
   "cell_type": "markdown",
   "id": "619200a8",
   "metadata": {},
   "source": [
    "## Generate data"
   ]
  },
  {
   "cell_type": "code",
   "execution_count": 2,
   "id": "e3491cce",
   "metadata": {},
   "outputs": [],
   "source": [
    "# Generate a large dataset.\n",
    "\n",
    "def generate_data(\n",
    "    file_name,\n",
    "    n_samples = 1000000, \n",
    "    n_features = 2,\n",
    "    n_clusters = 6\n",
    "):\n",
    "\n",
    "    input_data, input_labels = make_blobs(n_samples=n_samples,\n",
    "                                          n_features=n_features,\n",
    "                                          centers=n_clusters,\n",
    "                                          random_state = 1\n",
    "                                          )\n",
    "\n",
    "    # Save the data for CPU compute.\n",
    "    data_cpu = pd.DataFrame(input_data, columns = ['x', 'y'])\n",
    "    data_cpu['label'] = input_labels    \n",
    "#     data_cpu.to_csv(\"/root/data.csv\", index = False)\n",
    "#     fs.put(\"/root/data.csv\",f\"gs://shakdemo-hyperplane/data/synthetic_data/{file_name}.csv\")\n",
    "    data_cpu.to_csv(f\"gs://shakdemo-hyperplane/data/synthetic_data/{file_name}.csv\", index = False)\n",
    "    \n",
    "    return data_cpu\n",
    "    "
   ]
  },
  {
   "cell_type": "code",
   "execution_count": 3,
   "id": "6eee9ad8",
   "metadata": {},
   "outputs": [
    {
     "data": {
      "text/html": [
       "<div>\n",
       "<style scoped>\n",
       "    .dataframe tbody tr th:only-of-type {\n",
       "        vertical-align: middle;\n",
       "    }\n",
       "\n",
       "    .dataframe tbody tr th {\n",
       "        vertical-align: top;\n",
       "    }\n",
       "\n",
       "    .dataframe thead th {\n",
       "        text-align: right;\n",
       "    }\n",
       "</style>\n",
       "<table border=\"1\" class=\"dataframe\">\n",
       "  <thead>\n",
       "    <tr style=\"text-align: right;\">\n",
       "      <th></th>\n",
       "      <th>x</th>\n",
       "      <th>y</th>\n",
       "      <th>label</th>\n",
       "    </tr>\n",
       "  </thead>\n",
       "  <tbody>\n",
       "    <tr>\n",
       "      <th>0</th>\n",
       "      <td>-1.089090</td>\n",
       "      <td>3.117198</td>\n",
       "      <td>0</td>\n",
       "    </tr>\n",
       "    <tr>\n",
       "      <th>1</th>\n",
       "      <td>-3.409946</td>\n",
       "      <td>3.208246</td>\n",
       "      <td>0</td>\n",
       "    </tr>\n",
       "    <tr>\n",
       "      <th>2</th>\n",
       "      <td>-1.344134</td>\n",
       "      <td>4.759056</td>\n",
       "      <td>5</td>\n",
       "    </tr>\n",
       "    <tr>\n",
       "      <th>3</th>\n",
       "      <td>-0.676370</td>\n",
       "      <td>3.235765</td>\n",
       "      <td>0</td>\n",
       "    </tr>\n",
       "    <tr>\n",
       "      <th>4</th>\n",
       "      <td>-1.334046</td>\n",
       "      <td>3.632215</td>\n",
       "      <td>5</td>\n",
       "    </tr>\n",
       "    <tr>\n",
       "      <th>...</th>\n",
       "      <td>...</td>\n",
       "      <td>...</td>\n",
       "      <td>...</td>\n",
       "    </tr>\n",
       "    <tr>\n",
       "      <th>999995</th>\n",
       "      <td>-0.955715</td>\n",
       "      <td>3.086061</td>\n",
       "      <td>0</td>\n",
       "    </tr>\n",
       "    <tr>\n",
       "      <th>999996</th>\n",
       "      <td>-5.532552</td>\n",
       "      <td>-1.514448</td>\n",
       "      <td>3</td>\n",
       "    </tr>\n",
       "    <tr>\n",
       "      <th>999997</th>\n",
       "      <td>-2.204251</td>\n",
       "      <td>0.435175</td>\n",
       "      <td>4</td>\n",
       "    </tr>\n",
       "    <tr>\n",
       "      <th>999998</th>\n",
       "      <td>-1.886550</td>\n",
       "      <td>1.660001</td>\n",
       "      <td>5</td>\n",
       "    </tr>\n",
       "    <tr>\n",
       "      <th>999999</th>\n",
       "      <td>-8.076060</td>\n",
       "      <td>-7.732667</td>\n",
       "      <td>2</td>\n",
       "    </tr>\n",
       "  </tbody>\n",
       "</table>\n",
       "<p>1000000 rows × 3 columns</p>\n",
       "</div>"
      ],
      "text/plain": [
       "               x         y  label\n",
       "0      -1.089090  3.117198      0\n",
       "1      -3.409946  3.208246      0\n",
       "2      -1.344134  4.759056      5\n",
       "3      -0.676370  3.235765      0\n",
       "4      -1.334046  3.632215      5\n",
       "...          ...       ...    ...\n",
       "999995 -0.955715  3.086061      0\n",
       "999996 -5.532552 -1.514448      3\n",
       "999997 -2.204251  0.435175      4\n",
       "999998 -1.886550  1.660001      5\n",
       "999999 -8.076060 -7.732667      2\n",
       "\n",
       "[1000000 rows x 3 columns]"
      ]
     },
     "execution_count": 3,
     "metadata": {},
     "output_type": "execute_result"
    }
   ],
   "source": [
    "generate_data(0)"
   ]
  },
  {
   "cell_type": "code",
   "execution_count": 4,
   "id": "65196519",
   "metadata": {},
   "outputs": [],
   "source": [
    "for i in tqdm(range(50)):\n",
    "    generate_data(i)"
   ]
  },
  {
   "cell_type": "code",
   "execution_count": 46,
   "id": "b3d982a9-f36d-45ff-a5e5-8aa043662087",
   "metadata": {},
   "outputs": [
    {
     "name": "stdout",
     "output_type": "stream",
     "text": [
      "Wed Feb 16 17:03:47 2022       \n",
      "+-----------------------------------------------------------------------------+\n",
      "| NVIDIA-SMI 450.119.04   Driver Version: 450.119.04   CUDA Version: 11.0     |\n",
      "|-------------------------------+----------------------+----------------------+\n",
      "| GPU  Name        Persistence-M| Bus-Id        Disp.A | Volatile Uncorr. ECC |\n",
      "| Fan  Temp  Perf  Pwr:Usage/Cap|         Memory-Usage | GPU-Util  Compute M. |\n",
      "|                               |                      |               MIG M. |\n",
      "|===============================+======================+======================|\n",
      "|   0  A100-SXM4-40GB      Off  | 00000000:00:04.0 Off |                    0 |\n",
      "| N/A   31C    P0    49W / 400W |   3108MiB / 40537MiB |      0%      Default |\n",
      "|                               |                      |             Disabled |\n",
      "+-------------------------------+----------------------+----------------------+\n",
      "                                                                               \n",
      "+-----------------------------------------------------------------------------+\n",
      "| Processes:                                                                  |\n",
      "|  GPU   GI   CI        PID   Type   Process name                  GPU Memory |\n",
      "|        ID   ID                                                   Usage      |\n",
      "|=============================================================================|\n",
      "+-----------------------------------------------------------------------------+\n"
     ]
    }
   ],
   "source": [
    "!nvidia-smi "
   ]
  },
  {
   "cell_type": "code",
   "execution_count": 47,
   "id": "6139246c-cacb-4618-a348-fc06b3d885c7",
   "metadata": {},
   "outputs": [
    {
     "name": "stdout",
     "output_type": "stream",
     "text": [
      "Threads/core: 12\n"
     ]
    }
   ],
   "source": [
    "!echo \"Threads/core: $(nproc --all)\""
   ]
  },
  {
   "cell_type": "code",
   "execution_count": 48,
   "id": "05b790aa-fb0b-43f8-93c2-d802c5e4f959",
   "metadata": {},
   "outputs": [
    {
     "name": "stdout",
     "output_type": "stream",
     "text": [
      "              total        used        free      shared  buff/cache   available\n",
      "Mem:           83Gi       4.1Gi        70Gi        11Mi       8.4Gi        78Gi\n",
      "Swap:            0B          0B          0B\n"
     ]
    }
   ],
   "source": [
    "!free -h"
   ]
  },
  {
   "cell_type": "markdown",
   "id": "0613d1eb-e4d0-406f-a5d2-7f6897791352",
   "metadata": {},
   "source": [
    "## Get file list"
   ]
  },
  {
   "cell_type": "code",
   "execution_count": 4,
   "id": "b2370d83",
   "metadata": {},
   "outputs": [
    {
     "name": "stdout",
     "output_type": "stream",
     "text": [
      "number of files 50\n"
     ]
    }
   ],
   "source": [
    "## initiate GCP storage access\n",
    "import gcsfs\n",
    "fs = gcsfs.GCSFileSystem(cache_timeout = 0)\n",
    "file_path = \"gs://shakdemo-hyperplane/data/synthetic_data\"\n",
    "file_list = fs.ls(file_path)\n",
    "print(f\"number of files {len(file_list)}\")"
   ]
  },
  {
   "cell_type": "markdown",
   "id": "6de543e6",
   "metadata": {},
   "source": [
    "## CPU local"
   ]
  },
  {
   "cell_type": "code",
   "execution_count": 5,
   "id": "640f5a5e",
   "metadata": {
    "tags": []
   },
   "outputs": [
    {
     "data": {
      "application/vnd.jupyter.widget-view+json": {
       "model_id": "062406914694490682d9639ae123e910",
       "version_major": 2,
       "version_minor": 0
      },
      "text/plain": [
       "  0%|          | 0/50 [00:00<?, ?it/s]"
      ]
     },
     "metadata": {},
     "output_type": "display_data"
    },
    {
     "name": "stdout",
     "output_type": "stream",
     "text": [
      "(50000000, 3)\n",
      "data size 1.12 G\n"
     ]
    }
   ],
   "source": [
    "# read data\n",
    "data_cpu = []\n",
    "for file in tqdm(file_list):\n",
    "    data_cpu.append(pd.read_csv(f\"gs://{file}\"))\n",
    "data_cpu = pd.concat(data_cpu, ignore_index = True)\n",
    "print(data_cpu.shape)\n",
    "print(f'data size {data_cpu.memory_usage(deep = True).sum()/1024/1024/1024 :.2f} G')"
   ]
  },
  {
   "cell_type": "code",
   "execution_count": 6,
   "id": "b39d2c6a",
   "metadata": {},
   "outputs": [
    {
     "data": {
      "text/plain": [
       "(500000, 3)"
      ]
     },
     "execution_count": 6,
     "metadata": {},
     "output_type": "execute_result"
    }
   ],
   "source": [
    "# Plot the raw data and labels.\n",
    "samples_frac = 0.01\n",
    "df_sample = data_cpu.sample(frac = samples_frac)\n",
    "# fig = plt.figure(figsize=(16,10))\n",
    "# plt.scatter(df_sample['x'], df_sample['y'], c=df_sample['label'], s=20, cmap='viridis')\n",
    "df_sample.shape"
   ]
  },
  {
   "cell_type": "code",
   "execution_count": 7,
   "id": "49b81930",
   "metadata": {},
   "outputs": [
    {
     "name": "stdout",
     "output_type": "stream",
     "text": [
      "CPU times: user 11.7 s, sys: 7.78 s, total: 19.5 s\n",
      "Wall time: 13 s\n"
     ]
    }
   ],
   "source": [
    "%%time\n",
    "# Instantiate, train and predict.\n",
    "kmeans_cpu = cpuKMeans(init=\"k-means++\",\n",
    "                       n_clusters=6,\n",
    "                       random_state=0)\n",
    "kmeans_cpu.fit(df_sample[['x','y']])\n",
    "labels_cpu = kmeans_cpu.predict(df_sample[['x','y']])"
   ]
  },
  {
   "cell_type": "markdown",
   "id": "9dc8aba7",
   "metadata": {},
   "source": [
    "## GPU local"
   ]
  },
  {
   "cell_type": "code",
   "execution_count": 8,
   "id": "51819d15",
   "metadata": {},
   "outputs": [
    {
     "name": "stdout",
     "output_type": "stream",
     "text": [
      "CPU times: user 2.44 s, sys: 512 ms, total: 2.95 s\n",
      "Wall time: 4.47 s\n"
     ]
    }
   ],
   "source": [
    "%%time\n",
    "# Instantiate, train and predict.\n",
    "data_gpu = cudf.DataFrame(data_cpu)"
   ]
  },
  {
   "cell_type": "code",
   "execution_count": 9,
   "id": "057b1185",
   "metadata": {},
   "outputs": [
    {
     "name": "stdout",
     "output_type": "stream",
     "text": [
      "CPU times: user 8.32 s, sys: 1.39 s, total: 9.72 s\n",
      "Wall time: 9.92 s\n"
     ]
    }
   ],
   "source": [
    "%%time\n",
    "kmeans_gpu = gpuKMeans(init=\"k-means||\",\n",
    "                       n_clusters=6,\n",
    "                       random_state=0)\n",
    "kmeans_gpu.fit(data_gpu[['x','y']])\n",
    "labels_gpu = kmeans_gpu.predict(data_gpu[['x','y']])"
   ]
  },
  {
   "cell_type": "markdown",
   "id": "0ca8addd",
   "metadata": {},
   "source": [
    "## distributed Dask with GPU"
   ]
  },
  {
   "cell_type": "code",
   "execution_count": 10,
   "id": "99da9765",
   "metadata": {
    "tags": []
   },
   "outputs": [
    {
     "name": "stdout",
     "output_type": "stream",
     "text": [
      "👉 Hyperplane: selecting worker node pool\n",
      "👉 Hyperplane: selecting scheduler node pool\n",
      "Creating scheduler pod on cluster. This may take some time.\n",
      "👉 Hyperplane: spinning up a dask cluster with a scheduler as a standalone container.\n",
      "👉 Hyperplane: In a few minutes you'll be able to access the dashboard at https://shakdemo.hyperplane.dev/dask-cluster-21fe2d3c-c4a0-4b40-9736-98fea4c1492e/status\n",
      "👉 Hyperplane: to get logs from all workers, do `cluster.get_logs()`\n"
     ]
    }
   ],
   "source": [
    "## spin up a remote dask cluster\n",
    "from hyperplane import notebook_common as nc\n",
    "\n",
    "client, cluster = nc.initialize_cluster(\n",
    "    num_workers = 2,\n",
    "    ngpus = 1,\n",
    "    nprocs=1,\n",
    "    nthreads=12,\n",
    "    ram_gb_per_proc=80,\n",
    "    cores_per_worker=12,\n",
    "    scheduler_ram = \"4Gi\",\n",
    "    scheduler_cpu = \"1500m\",\n",
    "    node_selector = '',\n",
    "    \n",
    ")"
   ]
  },
  {
   "cell_type": "code",
   "execution_count": 32,
   "id": "5c3bfeb6",
   "metadata": {},
   "outputs": [
    {
     "data": {
      "text/plain": [
       "{'tcp://10.0.111.3:38443': 12, 'tcp://10.0.112.3:34785': 12}"
      ]
     },
     "execution_count": 32,
     "metadata": {},
     "output_type": "execute_result"
    }
   ],
   "source": [
    "client.nthreads()"
   ]
  },
  {
   "cell_type": "code",
   "execution_count": 12,
   "id": "41e900e5",
   "metadata": {},
   "outputs": [
    {
     "name": "stdout",
     "output_type": "stream",
     "text": [
      "CPU times: user 464 ms, sys: 107 ms, total: 571 ms\n",
      "Wall time: 9.92 s\n"
     ]
    },
    {
     "data": {
      "text/html": [
       "<div>\n",
       "<style scoped>\n",
       "    .dataframe tbody tr th:only-of-type {\n",
       "        vertical-align: middle;\n",
       "    }\n",
       "\n",
       "    .dataframe tbody tr th {\n",
       "        vertical-align: top;\n",
       "    }\n",
       "\n",
       "    .dataframe thead th {\n",
       "        text-align: right;\n",
       "    }\n",
       "</style>\n",
       "<table border=\"1\" class=\"dataframe\">\n",
       "  <thead>\n",
       "    <tr style=\"text-align: right;\">\n",
       "      <th></th>\n",
       "      <th>x</th>\n",
       "      <th>y</th>\n",
       "      <th>label</th>\n",
       "    </tr>\n",
       "  </thead>\n",
       "  <tbody>\n",
       "    <tr>\n",
       "      <th>0</th>\n",
       "      <td>-1.089090</td>\n",
       "      <td>3.117198</td>\n",
       "      <td>0</td>\n",
       "    </tr>\n",
       "    <tr>\n",
       "      <th>1</th>\n",
       "      <td>-3.409946</td>\n",
       "      <td>3.208246</td>\n",
       "      <td>0</td>\n",
       "    </tr>\n",
       "  </tbody>\n",
       "</table>\n",
       "</div>"
      ],
      "text/plain": [
       "          x         y  label\n",
       "0 -1.089090  3.117198      0\n",
       "1 -3.409946  3.208246      0"
      ]
     },
     "execution_count": 12,
     "metadata": {},
     "output_type": "execute_result"
    }
   ],
   "source": [
    "%%time\n",
    "import dask_cudf\n",
    "file_path = \"gs://shakdemo-hyperplane/data/synthetic_data/*.csv\"\n",
    "ddf = dask_cudf.read_csv(file_path)\n",
    "ddf.head(2)"
   ]
  },
  {
   "cell_type": "code",
   "execution_count": 49,
   "id": "bb05ad2f",
   "metadata": {},
   "outputs": [
    {
     "data": {
      "text/plain": [
       "50"
      ]
     },
     "execution_count": 49,
     "metadata": {},
     "output_type": "execute_result"
    }
   ],
   "source": [
    "ddf.npartitions"
   ]
  },
  {
   "cell_type": "code",
   "execution_count": 14,
   "id": "681ca6f5",
   "metadata": {},
   "outputs": [],
   "source": [
    "ddf = client.persist(ddf)"
   ]
  },
  {
   "cell_type": "code",
   "execution_count": null,
   "id": "a5215327",
   "metadata": {},
   "outputs": [
    {
     "data": {
      "text/plain": [
       "50000000"
      ]
     },
     "execution_count": 18,
     "metadata": {},
     "output_type": "execute_result"
    }
   ],
   "source": [
    "ddf.map_partitions(len).compute().sum()"
   ]
  },
  {
   "cell_type": "code",
   "execution_count": 50,
   "id": "551e077b",
   "metadata": {},
   "outputs": [],
   "source": [
    "from cuml.dask.cluster.kmeans import KMeans as mnmgKMeans"
   ]
  },
  {
   "cell_type": "code",
   "execution_count": 52,
   "id": "3f1d3a99",
   "metadata": {},
   "outputs": [
    {
     "name": "stdout",
     "output_type": "stream",
     "text": [
      "CPU times: user 331 ms, sys: 88.9 ms, total: 419 ms\n",
      "Wall time: 3.96 s\n"
     ]
    }
   ],
   "source": [
    "%%time\n",
    "\n",
    "# Setup the Dask task graph.\n",
    "\n",
    "# Instantiate, train and predict.\n",
    "kmeans_mnmg = mnmgKMeans(init=\"k-means||\",\n",
    "                         n_clusters=6,\n",
    "                         random_state=0)\n",
    "\n",
    "kmeans_mnmg.fit(ddf[['x','y']])\n",
    "kmeans_mnmg_df = kmeans_mnmg.predict(ddf[['x','y']])\n",
    "\n",
    "# Execute the Dask task graph.\n",
    "labels_mnmg = kmeans_mnmg_df.compute()"
   ]
  },
  {
   "cell_type": "code",
   "execution_count": 18,
   "id": "3e360efe",
   "metadata": {},
   "outputs": [
    {
     "name": "stdout",
     "output_type": "stream",
     "text": [
      "MNMG k-means labels:\n",
      "1    15767950\n",
      "3     9194100\n",
      "2     8314450\n",
      "0     7281950\n",
      "5     5425000\n",
      "4     4016550\n",
      "dtype: int32\n"
     ]
    }
   ],
   "source": [
    "# Display the output.\n",
    "print('MNMG k-means labels:')\n",
    "print(labels_mnmg.value_counts())"
   ]
  },
  {
   "cell_type": "code",
   "execution_count": 24,
   "id": "cdb9e1d1",
   "metadata": {},
   "outputs": [],
   "source": [
    "cluster.close()"
   ]
  },
  {
   "cell_type": "code",
   "execution_count": null,
   "id": "42b3e053-6d5d-405b-a789-0d6fa55914af",
   "metadata": {},
   "outputs": [],
   "source": []
  }
 ],
 "metadata": {
  "kernelspec": {
   "display_name": "Python 3 (ipykernel)",
   "language": "python",
   "name": "python3"
  },
  "language_info": {
   "codemirror_mode": {
    "name": "ipython",
    "version": 3
   },
   "file_extension": ".py",
   "mimetype": "text/x-python",
   "name": "python",
   "nbconvert_exporter": "python",
   "pygments_lexer": "ipython3",
   "version": "3.8.10"
  }
 },
 "nbformat": 4,
 "nbformat_minor": 5
}
